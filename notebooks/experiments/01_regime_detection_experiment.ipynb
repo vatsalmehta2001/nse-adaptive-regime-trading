{
  "cells": [
    {
      "cell_type": "markdown",
      "metadata": {},
      "source": [
        "# Regime Detection Experiment\n",
        "\n",
        "This notebook experiments with different regime detection methods for market analysis.\n"
      ]
    }
  ],
  "metadata": {
    "language_info": {
      "name": "python"
    }
  },
  "nbformat": 4,
  "nbformat_minor": 2
}
